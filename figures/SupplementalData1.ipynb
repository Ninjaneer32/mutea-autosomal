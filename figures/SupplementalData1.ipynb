{
 "cells": [
  {
   "cell_type": "code",
   "execution_count": 49,
   "metadata": {},
   "outputs": [],
   "source": [
    "%run params.py\n",
    "\n",
    "import pandas as pd\n",
    "from plotting_functions import *\n",
    "import numpy as np\n",
    "\n",
    "\n",
    "lobref = pd.read_csv(os.path.join(DATAPATH, \"ref\", \"lobstr_v3.0.2_hg19_ref_nochr.bed.gz\"), usecols=range(4),\n",
    "                     names=[\"chrom\",\"start\",\"end\",\"period\"], sep=\"\\t\")\n",
    "\n",
    "data = LoadMLData(os.path.join(DATAPATH, \"autosomal_estimates/perlocus\", \"autosomal_estimates_ml_filtered_v2.bed.gz\"))\n",
    "sdata = pd.read_csv(os.path.join(DATAPATH, \"autosomal_estimates/perlocus\", \"autosomal_stutter_ml_v2.bed.gz\"), names=[\"chrom\",\"start\",\"end\",\"up\",\"down\",\"p\"], sep=\"\\t\")\n",
    "zdata = pd.read_csv(os.path.join(DATAPATH, \"constraint\", \"autosomal_perlocus_estimates.bed\"))\n",
    "smmzdata = pd.read_csv(os.path.join(DATAPATH, \"constraint\", \"autosomal_perlocus_estimates_smm.bed\"))"
   ]
  },
  {
   "cell_type": "code",
   "execution_count": 50,
   "metadata": {
    "collapsed": true
   },
   "outputs": [],
   "source": [
    "data[\"chrom\"] = data[\"chrom\"].apply(str)\n",
    "data[\"start\"] = data[\"start\"].apply(int)\n",
    "data[\"end\"] = data[\"end\"].apply(int)\n",
    "sdata[\"chrom\"] = sdata[\"chrom\"].apply(str)\n",
    "sdata[\"start\"] = sdata[\"start\"].apply(int)\n",
    "sdata[\"end\"] = sdata[\"end\"].apply(int)\n",
    "zdata[\"chrom\"] = zdata[\"chrom\"].apply(str)\n",
    "zdata[\"start\"] = zdata[\"start\"].apply(int)\n",
    "zdata[\"end\"] = zdata[\"end\"].apply(int)\n",
    "smmzdata[\"chrom\"] = smmzdata[\"chrom\"].apply(str)\n",
    "smmzdata[\"start\"] = smmzdata[\"start\"].apply(int)\n",
    "smmzdata[\"end\"] = smmzdata[\"end\"].apply(int)\n",
    "lobref[\"chrom\"] = lobref[\"chrom\"].apply(str)\n",
    "lobref[\"start\"] = lobref[\"start\"].apply(int)\n",
    "lobref[\"end\"] = lobref[\"end\"].apply(int)"
   ]
  },
  {
   "cell_type": "code",
   "execution_count": 51,
   "metadata": {},
   "outputs": [],
   "source": [
    "suppdata = pd.merge(data, sdata, on=[\"chrom\",\"start\",\"end\"])\n",
    "suppdata = pd.merge(suppdata, lobref, on=[\"chrom\",\"start\",\"end\"])\n",
    "suppdata = pd.merge(suppdata, zdata, on=[\"chrom\",\"start\",\"end\"], how=\"outer\")\n",
    "suppdata = pd.merge(suppdata, smmzdata[[\"chrom\",\"start\",\"end\",\"smm_mu\",\"zscore_1_smm\",\"filter1_smm\"]],\n",
    "                    on=[\"chrom\",\"start\",\"end\"], how=\"outer\").drop_duplicates()"
   ]
  },
  {
   "cell_type": "code",
   "execution_count": 52,
   "metadata": {},
   "outputs": [],
   "source": [
    "# Small changes\n",
    "suppdata[\"#chrom\"] = suppdata[\"chrom\"]\n",
    "suppdata[\"numsamples_ml\"] = suppdata[\"numsamples_ml\"].apply(int)"
   ]
  },
  {
   "cell_type": "code",
   "execution_count": 53,
   "metadata": {},
   "outputs": [],
   "source": [
    "# Add column indicating if used in training\n",
    "traindata = pd.read_csv(os.path.join(DATAPATH, \"constraint\", \"autosomal_perlocus_train_intergenic.bed.gz\"), usecols=range(3),\n",
    "                       sep=\"\\t\").drop_duplicates()\n",
    "traindata[\"train\"] = 1\n",
    "traindata[\"chrom\"] = traindata[\"chrom\"].apply(str)\n",
    "trainloci = set()\n",
    "for i in range(traindata.shape[0]): trainloci.add((traindata.chrom.values[i], traindata.start.values[i]))\n",
    "suppdata[\"train_2\"] = suppdata.apply(lambda x: (x.chrom, x.start) in trainloci, 1)\n",
    "suppdata[\"train_1\"] = suppdata.apply(lambda x: x.train_2 and not x.filter1, 1)"
   ]
  },
  {
   "cell_type": "code",
   "execution_count": 54,
   "metadata": {
    "collapsed": true
   },
   "outputs": [],
   "source": [
    "# Adjust SMM rates by missing factor of 2 (was missing in original run)\n",
    "suppdata[\"smm_mu\"] = suppdata[\"smm_mu\"] - np.log10(2)\n",
    "# Drop duplicate rows, usually occurs because more than 1 motif for that repeat\n",
    "suppdata = suppdata.drop_duplicates(subset=[\"chrom\",\"start\",\"end\"])"
   ]
  },
  {
   "cell_type": "code",
   "execution_count": 55,
   "metadata": {},
   "outputs": [],
   "source": [
    "columns = [\"#chrom\",\"start\",\"end\",\"est_logmu_ml\",\"est_beta_eff_ml\",\"est_beta_ml\", \\\n",
    "          \"est_pgeom_ml\", \"stderr_ml\", \"numsamples_ml\", \\\n",
    "          \"up\", \"down\", \"p\", \\\n",
    "          \"period\", \"motif\",\"uninterrupted_length\", \\\n",
    "          \"pred_mu_1\", \"pred_mu_se_1\", \"zscore_1\", \\\n",
    "          \"pred_mu_2\", \"pred_mu_se_2\", \"zscore_2\", \"filter1\",\"train_1\", \"train_2\", \\\n",
    "          \"smm_mu\",\"zscore_1_smm\",\"filter1_smm\"]\n",
    "suppdata[columns].to_csv(os.path.join(DATAPATH, \"suppdata\", \"Gymrek_etal_SupplementalData1_v2.bed\"), sep=\"\\t\", index=False)"
   ]
  },
  {
   "cell_type": "code",
   "execution_count": 56,
   "metadata": {},
   "outputs": [
    {
     "data": {
      "text/plain": [
       "(1250930, 35)"
      ]
     },
     "execution_count": 56,
     "metadata": {},
     "output_type": "execute_result"
    }
   ],
   "source": [
    "suppdata.shape"
   ]
  }
 ],
 "metadata": {
  "kernelspec": {
   "display_name": "Python 3",
   "language": "python",
   "name": "python3"
  },
  "language_info": {
   "codemirror_mode": {
    "name": "ipython",
    "version": 3
   },
   "file_extension": ".py",
   "mimetype": "text/x-python",
   "name": "python",
   "nbconvert_exporter": "python",
   "pygments_lexer": "ipython3",
   "version": "3.6.5"
  }
 },
 "nbformat": 4,
 "nbformat_minor": 1
}
